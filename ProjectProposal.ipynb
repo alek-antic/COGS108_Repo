{
 "cells": [
  {
   "cell_type": "markdown",
   "metadata": {},
   "source": [
    "# COGS 108 - Project Proposal"
   ]
  },
  {
   "cell_type": "markdown",
   "metadata": {},
   "source": [
    "## Important\n",
    "\n",
    "- Make sure all group members (3-6 people) are listed in the group members section.\n",
    "- ONE, and only one, member of your group should upload this notebook to TritonED. \n",
    "- Each member of the group will receive the same grade on this assignment. \n",
    "- Keep the file name the same: submit the file 'ProjectProposal.ipynb'"
   ]
  },
  {
   "cell_type": "markdown",
   "metadata": {},
   "source": [
    "## Overview"
   ]
  },
  {
   "cell_type": "markdown",
   "metadata": {},
   "source": [
    "Read the project description and detailed instructions for this assignment in the 'ProjectOutline' document."
   ]
  },
  {
   "cell_type": "markdown",
   "metadata": {},
   "source": [
    "## Group Members: Fill in the Student IDs of each group member here\n",
    "\n",
    "Replace the lines below to list each persons full student ID. Add lines as needed for your group size, and make sure each ID is listed on a separate line. \n",
    "\n",
    "- A13613299\n",
    "- A13639993\n",
    "- A92136110\n",
    "- A14257209\n",
    "- A14484628"
   ]
  },
  {
   "cell_type": "markdown",
   "metadata": {},
   "source": [
    "### Research Question\n",
    "\n",
    "What is your research question? (1-2 sentences)"
   ]
  },
  {
   "cell_type": "markdown",
   "metadata": {},
   "source": [
    "When asking for a pizza on [r/Random_Acts_Of_Pizza](https://www.reddit.com/r/Random_Acts_Of_Pizza/), what is the likelihood of recieving a pizza, and what is the most likely pizza to recieve based on state?"
   ]
  },
  {
   "cell_type": "markdown",
   "metadata": {},
   "source": [
    "### Hypothesis\n",
    "\n",
    "What is your main hypothesis and predictions? (2-3 sentences)"
   ]
  },
  {
   "cell_type": "markdown",
   "metadata": {},
   "source": [
    "If you request a pizza on the r/Random_Acts_Of_Pizza subreddit, then you are most likely to get the most popular pizza based on your location. The most common pizza is most likely plain cheese pizza in most locations, although some states will definitely be different."
   ]
  },
  {
   "cell_type": "markdown",
   "metadata": {},
   "source": [
    "### Dataset(s)\n",
    "\n",
    "What data will you use to answer your question? Describe the dataset(s) in terms of number of observations, what kind of features it contains, etc. You must use at least one dataset containing at least approximately 1000 observations (if your data are smaller but you feel they are sufficient, email Prof. Voytek). You are welcome (and in fact recommended) to find multiple datasets! If you do so, describe each one, and briefly explain how you will combine them together. "
   ]
  },
  {
   "cell_type": "markdown",
   "metadata": {},
   "source": [
    "*Fill in your dataset information here*\n",
    "\n",
    "(Copy this information for each dataset)\n",
    "- Dataset Name: Pizza Restaurants And The Pizza They Sell\n",
    "- Link to the dataset: [Kaggle](https://www.kaggle.com/datafiniti/pizza-restaurants-and-the-pizza-they-sell)\n",
    "- Number of observations: 3510\n",
    "\n",
    "This dataset contains informaton on pizza restaurants, including their menus, prices, and locations.\n",
    "\n",
    "- Dataset Name: Random Acts of Pizza\n",
    "- Link to the dataset: [Kaggle](https://www.kaggle.com/c/random-acts-of-pizza)\n",
    "- Number of observations: 5671\n",
    "\n",
    "This dataset contains the requests for free pizza from over 5500 Reddit users, and whether they recieved the pizza or not. It includes all of the request for free pizza, the number of upvotes and downvotes on the post, the time of posting, and the number of comments on the posts.\n",
    "\n",
    "If you plan to use multiple datasets, add 1-2 sentences about how you plan to combine these datasets.\n",
    "\n",
    "These datasets will be used in conjunction to figure out what toppings are popular for pizzas.  Specifically, the Random Acts of Pizza data can be used to find with toppings to look for, and the Restaurant dataset cna be used for location data."
   ]
  },
  {
   "cell_type": "markdown",
   "metadata": {},
   "source": [
    "### Background and Prior Work\n",
    "\n",
    "Why is this question of interest, what background information led you to your hypothesis, and why is this important?\n",
    "\n",
    "Find some relevant prior work, and reference those sources. Even if you think you have a totally novel question, find the most similar prior work that you can and discuss how it relates to your project. \n",
    "\n",
    "References can be research publications, but they need not be. Blogs, github repositories, company websites, etc., are all viable references if they are relevant to your project.\n",
    "\n",
    "(2-3 paragraphs, including at least 2 references)"
   ]
  },
  {
   "cell_type": "markdown",
   "metadata": {},
   "source": [
    "*Fill in your background and prior work here* \n",
    "\n",
    "Sometimes, you just want free pizza. You are also interested whether you should still have faith in humanity or not, so you decide that posting on r/Random_Acts_of_Pizza would be a good way to accomplish both of these tasks - a potential to obtain free pizza, and a test of the generosity of others. You are not very picky with what is on your pizza (and also extremely non-commital), so you ask for whatever the most popular pizza is in your area.\n",
    "\n",
    "It seems like [Eat This](https://www.eatthis.com/most-popular-pizza-topping-in-every-state/) and [Hungry Howie's](https://www.hungryhowies.com/blog/popular-pizza-toppings-state) have already done the work on which pizza toppings are the most popular by state. However, they seem to have different answers to the question, which is a little concerning. This is part of the reason for this study - to come to our own conclusions on which toppings are most popular. Additionally, we will not be looking for the single most popular topping, but rather a combination of ingredients that is popular.\n",
    "\n",
    "\n",
    "References (include links):\n",
    "- 1) [The Most Popular Pizza Toppings By State](https://www.eatthis.com/most-popular-pizza-topping-in-every-state/)\n",
    "- 2) [Hungry Howie's](https://www.hungryhowies.com/blog/popular-pizza-toppings-state)"
   ]
  },
  {
   "cell_type": "markdown",
   "metadata": {},
   "source": [
    "### Proposed Methods\n",
    "\n",
    "What methods will you use to analyze your data?\n",
    "\n",
    "- How 'clean' is the data? To the extent that it requires cleaning, how will you do so?\n",
    "- How will you analyze the data? Be as specific as you can. Briefly mention any pre-processing steps that are required for your methods (for example, checking data distributions and performing any transformations that may be required). Include a brief outline of how you will apply your chosen method(s). \n",
    "- What do you plan to report? Briefly mention any key visualizations you plan to create, and/or the kind of results you will be able to report that address your question (this could be, for example, the outcome of some statistical test(s), prediction error on a model, a model fit parameter, etc.).\n",
    "- Include a list of packages you expect to use for you project. If you plan to use packages we have not used in class, add a very brief description about them (a few words is sufficient). "
   ]
  },
  {
   "cell_type": "markdown",
   "metadata": {},
   "source": [
    "*Fill in your proposed methods information here:*\n",
    "\n",
    "*Data Cleaning (2-3 sentences)*\n",
    "\n",
    "#### Data Cleaning\n",
    "\n",
    "The Restaurant Dataset is very messy. Since the data is from Datafiniti, the data that was included does not have good formatting. Certain columns are inconsitent at best in what they specify. Additionally, some restaurants do not have descriptions for their menu items, meaning that we do not have a way to extract the topping list from these menu items. These items will either be purged from the dataset, or if the type of pizza can be inferred from the title, then we will keep it.\n",
    "\n",
    "\n",
    "#### Data Analysis\n",
    "\n",
    "The Random Acts of Pizza dataset contains data of each request for pizza. We aim to correlate features such as upvotes, downvotes, number of requests from that account, and others to whether or not that specific request got a pizza. In the end we will determine which features maximize the probability of acquiring a pizza.\n",
    "\n",
    "Additionally, we will track the most popular pizza in a state. This will be done by counting all pizzas received for each state. A potential problem will be that the most popular pizzas in a state might differ by a single topping. We overcome this problem by limiting our scope of pizza categories to 3 topping pizzas - each three topping pizza is its own category. We will then visualize this data by showing a picture of the most popular pizza over its corresponding state on a map of the United States.\n",
    "\n",
    "*What to report (2-3 sentences)*\n",
    "\n",
    "#### Report\n",
    "\n",
    "We plan on reporting a map that visualizes\n",
    "\n",
    "#### Packages we plan to use:\n",
    "- uszipcode - a library to look up zip codes and states from city names (useful for data cleaning)"
   ]
  },
  {
   "cell_type": "markdown",
   "metadata": {},
   "source": [
    "### Ethics and Privacy\n",
    "\n",
    "Briefly acknowledge and address any potential issues of ethics and privacy for the proposed project. In particular:\n",
    "- Do you have permission to use this data, for this purpose?\n",
    "    \n",
    "- Are there privacy concerns regarding your datasets that you need to deal with, and/or terms of use that you need to comply with?\n",
    "\n",
    "- Are there potential biases in your dataset(s), in terms of who it composes, and how it was collected, that may be problematic in terms of it allowing for equitable analysis? (For example, does your data exclude particular populations, or is it likely to reflect particular human biases in a way that could be a problem?) \n",
    "\n",
    "- Are there any other issues related to your topic area, data, and/or analyses that are potentially problematic in terms of data privacy and equitable impact?\n",
    "\n",
    "- How will you handle any issues you identify?\n",
    "\n",
    "(1-2 paragraphs)\n",
    "\n",
    "The first dataset \"Pizza Restaurants and the Pizza they sell\" is released under Creative Commons Attribution-NonCommercial-ShareAlike, so we have permission to alter and use the data as long as we attribute the source and our work would also need to be CC as well. Obviously our work is for a class, therefore the purpose will not be for profit. The second source, \"Random Acts of Pizza\" is from a Kaggle competition, and therfore should be fair use as well.\n",
    "    \n",
    "There are no privacy concerns regarding our datasets, but there might be potential biases.The data from \"Random Acts of Pizza\" are from reddit posts, which may reflect on a small part of the popualtion. The demographics of reddit posters may have similiar in age, habits(browsing internet online), or culture, thus may reflect on only the reddit demographic rather than a general population.\n",
    "    \n",
    "There should be no other issues related to our topic area that would potentially be problematic. And if we do encounter issues in the future that impedes on privacy or ethics, we will consult with both the professor and piazza for further instructions.\n",
    "    \n",
    "    "
   ]
  },
  {
   "cell_type": "markdown",
   "metadata": {},
   "source": [
    "### Discussion\n",
    "\n",
    "Discuss your project, looking forward to what your results might mean, how they fit it in with what is already known, and what problems you may encounter. \n",
    "\n",
    "In particular:\n",
    "- If your analyses and hypotheses are correct, what will be the contribution of this project to the topic domain? \n",
    "- Alternatively, what will you do if you methods don't work and/or your hypotheses are wrong? \n",
    "- What are the potential pitfalls and potential confounds of your data and/or methods that may cause problems, and/or influence your interpretations?\n",
    "\n",
    "(2-3 paragraphs)"
   ]
  },
  {
   "cell_type": "markdown",
   "metadata": {},
   "source": [
    "*Fill in your discussion information here*"
   ]
  }
 ],
 "metadata": {
  "kernelspec": {
   "display_name": "Python 3",
   "language": "python",
   "name": "python3"
  },
  "language_info": {
   "codemirror_mode": {
    "name": "ipython",
    "version": 3
   },
   "file_extension": ".py",
   "mimetype": "text/x-python",
   "name": "python",
   "nbconvert_exporter": "python",
   "pygments_lexer": "ipython3",
   "version": "3.6.5"
  }
 },
 "nbformat": 4,
 "nbformat_minor": 2
}
